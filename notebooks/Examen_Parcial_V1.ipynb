{
 "cells": [
  {
   "cell_type": "markdown",
   "id": "e2cf8d8c",
   "metadata": {},
   "source": [
    "## El DataSet proporcionado contiene información sobre Proveedores de Carnes, Productos, Fechas y Precios. "
   ]
  },
  {
   "cell_type": "markdown",
   "id": "00dbc3a6",
   "metadata": {},
   "source": [
    "### **Pasos a seguir:**\n",
    "\n",
    "**1.- Exploración de Datos:**\n",
    "* Resumen estadístico del dataset.\n",
    "* Análisis de valores nulos y duplicados.\n",
    "\n",
    "**2.- Preprocesamiento:**\n",
    "* Conversión de fechas a un formato adecuado y extracción de características temporales.\n",
    "* Codificación de variables categóricas.\n",
    "* Normalización o estandarización de precios."
   ]
  },
  {
   "cell_type": "code",
   "execution_count": 1,
   "id": "7f4247b7",
   "metadata": {},
   "outputs": [],
   "source": [
    "# 1.- Cargamos las Librerias\n",
    "\n",
    "import pandas as pd\n",
    "import numpy as np\n",
    "import seaborn as sb\n",
    "import matplotlib.pyplot as plt\n",
    "%matplotlib inline\n",
    "from sklearn import datasets\n",
    "from sklearn import linear_model\n",
    "from sklearn import model_selection\n",
    "from sklearn.linear_model import LinearRegression\n",
    "from sklearn.model_selection import train_test_split\n",
    "from sklearn.ensemble import RandomForestRegressor\n",
    "from sklearn.metrics import classification_report\n",
    "from sklearn.metrics import confusion_matrix\n",
    "from sklearn.metrics import accuracy_score\n",
    "from sklearn.metrics import mean_absolute_error, mean_squared_error"
   ]
  },
  {
   "cell_type": "markdown",
   "id": "052cef9d",
   "metadata": {},
   "source": [
    "### Exploración de Datos\n",
    "\n",
    "**Primero, realizaremos un análisis exploratorio de los datos para entender mejor su estructura y contenido.**"
   ]
  },
  {
   "cell_type": "code",
   "execution_count": 13,
   "id": "d974ae11",
   "metadata": {},
   "outputs": [
    {
     "data": {
      "text/html": [
       "<div>\n",
       "<style scoped>\n",
       "    .dataframe tbody tr th:only-of-type {\n",
       "        vertical-align: middle;\n",
       "    }\n",
       "\n",
       "    .dataframe tbody tr th {\n",
       "        vertical-align: top;\n",
       "    }\n",
       "\n",
       "    .dataframe thead th {\n",
       "        text-align: right;\n",
       "    }\n",
       "</style>\n",
       "<table border=\"1\" class=\"dataframe\">\n",
       "  <thead>\n",
       "    <tr style=\"text-align: right;\">\n",
       "      <th></th>\n",
       "      <th>proveedor</th>\n",
       "      <th>producto</th>\n",
       "      <th>fecha</th>\n",
       "      <th>precio</th>\n",
       "    </tr>\n",
       "  </thead>\n",
       "  <tbody>\n",
       "    <tr>\n",
       "      <th>0</th>\n",
       "      <td>Alta Performance</td>\n",
       "      <td>Asado x Kg.</td>\n",
       "      <td>06/06/2024 14:51:34</td>\n",
       "      <td>7490</td>\n",
       "    </tr>\n",
       "    <tr>\n",
       "      <th>1</th>\n",
       "      <td>Alta Performance</td>\n",
       "      <td>Asado x Kg.</td>\n",
       "      <td>07/06/2024 14:28:17</td>\n",
       "      <td>7490</td>\n",
       "    </tr>\n",
       "    <tr>\n",
       "      <th>2</th>\n",
       "      <td>Alta Performance</td>\n",
       "      <td>Asado x Kg.</td>\n",
       "      <td>07/06/2024 15:07:42</td>\n",
       "      <td>7490</td>\n",
       "    </tr>\n",
       "    <tr>\n",
       "      <th>3</th>\n",
       "      <td>Alta Performance</td>\n",
       "      <td>Asado x Kg.</td>\n",
       "      <td>09/06/2024 15:31:05</td>\n",
       "      <td>7490</td>\n",
       "    </tr>\n",
       "    <tr>\n",
       "      <th>4</th>\n",
       "      <td>Alta Performance</td>\n",
       "      <td>Asado x Kg.</td>\n",
       "      <td>10/06/2024 14:38:28</td>\n",
       "      <td>7490</td>\n",
       "    </tr>\n",
       "    <tr>\n",
       "      <th>5</th>\n",
       "      <td>Alta Performance</td>\n",
       "      <td>Asado x Kg.</td>\n",
       "      <td>23/05/2024 13:33:03</td>\n",
       "      <td>8290</td>\n",
       "    </tr>\n",
       "    <tr>\n",
       "      <th>6</th>\n",
       "      <td>Alta Performance</td>\n",
       "      <td>Asado x Kg.</td>\n",
       "      <td>23/05/2024 13:33:03</td>\n",
       "      <td>8290</td>\n",
       "    </tr>\n",
       "    <tr>\n",
       "      <th>7</th>\n",
       "      <td>Alta Performance</td>\n",
       "      <td>Asado x Kg.</td>\n",
       "      <td>28/05/2024 15:29:30</td>\n",
       "      <td>8290</td>\n",
       "    </tr>\n",
       "  </tbody>\n",
       "</table>\n",
       "</div>"
      ],
      "text/plain": [
       "          proveedor     producto                fecha  precio\n",
       "0  Alta Performance  Asado x Kg.  06/06/2024 14:51:34    7490\n",
       "1  Alta Performance  Asado x Kg.  07/06/2024 14:28:17    7490\n",
       "2  Alta Performance  Asado x Kg.  07/06/2024 15:07:42    7490\n",
       "3  Alta Performance  Asado x Kg.  09/06/2024 15:31:05    7490\n",
       "4  Alta Performance  Asado x Kg.  10/06/2024 14:38:28    7490\n",
       "5  Alta Performance  Asado x Kg.  23/05/2024 13:33:03    8290\n",
       "6  Alta Performance  Asado x Kg.  23/05/2024 13:33:03    8290\n",
       "7  Alta Performance  Asado x Kg.  28/05/2024 15:29:30    8290"
      ]
     },
     "execution_count": 13,
     "metadata": {},
     "output_type": "execute_result"
    }
   ],
   "source": [
    "# 2.- Cargamos el DataSet\n",
    "\n",
    "dfcarnes = pd.read_excel(\"Carnes.xlsx\")\n",
    "dfcarnes.head(8)"
   ]
  },
  {
   "cell_type": "markdown",
   "id": "67a91397",
   "metadata": {},
   "source": [
    "El DataSet tiene 6559 registros y Cuatro (4) Columnas: 1.Proveedor, 2.Producto, 3.Fecha y 4.Precio. "
   ]
  },
  {
   "cell_type": "code",
   "execution_count": 14,
   "id": "76532d10",
   "metadata": {},
   "outputs": [
    {
     "data": {
      "text/html": [
       "<div>\n",
       "<style scoped>\n",
       "    .dataframe tbody tr th:only-of-type {\n",
       "        vertical-align: middle;\n",
       "    }\n",
       "\n",
       "    .dataframe tbody tr th {\n",
       "        vertical-align: top;\n",
       "    }\n",
       "\n",
       "    .dataframe thead th {\n",
       "        text-align: right;\n",
       "    }\n",
       "</style>\n",
       "<table border=\"1\" class=\"dataframe\">\n",
       "  <thead>\n",
       "    <tr style=\"text-align: right;\">\n",
       "      <th></th>\n",
       "      <th>proveedor</th>\n",
       "      <th>producto</th>\n",
       "      <th>fecha</th>\n",
       "      <th>precio</th>\n",
       "    </tr>\n",
       "  </thead>\n",
       "  <tbody>\n",
       "    <tr>\n",
       "      <th>count</th>\n",
       "      <td>6559</td>\n",
       "      <td>6559</td>\n",
       "      <td>6559</td>\n",
       "      <td>6559.000000</td>\n",
       "    </tr>\n",
       "    <tr>\n",
       "      <th>unique</th>\n",
       "      <td>15</td>\n",
       "      <td>39</td>\n",
       "      <td>1097</td>\n",
       "      <td>NaN</td>\n",
       "    </tr>\n",
       "    <tr>\n",
       "      <th>top</th>\n",
       "      <td>La Anonima</td>\n",
       "      <td>Matambre x Kg.</td>\n",
       "      <td>11/06/2024 15:37:41</td>\n",
       "      <td>NaN</td>\n",
       "    </tr>\n",
       "    <tr>\n",
       "      <th>freq</th>\n",
       "      <td>682</td>\n",
       "      <td>479</td>\n",
       "      <td>38</td>\n",
       "      <td>NaN</td>\n",
       "    </tr>\n",
       "    <tr>\n",
       "      <th>mean</th>\n",
       "      <td>NaN</td>\n",
       "      <td>NaN</td>\n",
       "      <td>NaN</td>\n",
       "      <td>7959.072115</td>\n",
       "    </tr>\n",
       "    <tr>\n",
       "      <th>std</th>\n",
       "      <td>NaN</td>\n",
       "      <td>NaN</td>\n",
       "      <td>NaN</td>\n",
       "      <td>2091.377045</td>\n",
       "    </tr>\n",
       "    <tr>\n",
       "      <th>min</th>\n",
       "      <td>NaN</td>\n",
       "      <td>NaN</td>\n",
       "      <td>NaN</td>\n",
       "      <td>1490.000000</td>\n",
       "    </tr>\n",
       "    <tr>\n",
       "      <th>25%</th>\n",
       "      <td>NaN</td>\n",
       "      <td>NaN</td>\n",
       "      <td>NaN</td>\n",
       "      <td>6500.000000</td>\n",
       "    </tr>\n",
       "    <tr>\n",
       "      <th>50%</th>\n",
       "      <td>NaN</td>\n",
       "      <td>NaN</td>\n",
       "      <td>NaN</td>\n",
       "      <td>7990.000000</td>\n",
       "    </tr>\n",
       "    <tr>\n",
       "      <th>75%</th>\n",
       "      <td>NaN</td>\n",
       "      <td>NaN</td>\n",
       "      <td>NaN</td>\n",
       "      <td>8999.000000</td>\n",
       "    </tr>\n",
       "    <tr>\n",
       "      <th>max</th>\n",
       "      <td>NaN</td>\n",
       "      <td>NaN</td>\n",
       "      <td>NaN</td>\n",
       "      <td>17730.000000</td>\n",
       "    </tr>\n",
       "  </tbody>\n",
       "</table>\n",
       "</div>"
      ],
      "text/plain": [
       "         proveedor        producto                fecha        precio\n",
       "count         6559            6559                 6559   6559.000000\n",
       "unique          15              39                 1097           NaN\n",
       "top     La Anonima  Matambre x Kg.  11/06/2024 15:37:41           NaN\n",
       "freq           682             479                   38           NaN\n",
       "mean           NaN             NaN                  NaN   7959.072115\n",
       "std            NaN             NaN                  NaN   2091.377045\n",
       "min            NaN             NaN                  NaN   1490.000000\n",
       "25%            NaN             NaN                  NaN   6500.000000\n",
       "50%            NaN             NaN                  NaN   7990.000000\n",
       "75%            NaN             NaN                  NaN   8999.000000\n",
       "max            NaN             NaN                  NaN  17730.000000"
      ]
     },
     "execution_count": 14,
     "metadata": {},
     "output_type": "execute_result"
    }
   ],
   "source": [
    "# 3.- Analisis Descriptivo.\n",
    "\n",
    "#dfcarnes.describe()\n",
    "dfcarnes.describe(include='all')"
   ]
  },
  {
   "cell_type": "code",
   "execution_count": 15,
   "id": "2cb510d4",
   "metadata": {},
   "outputs": [
    {
     "name": "stdout",
     "output_type": "stream",
     "text": [
      "<class 'pandas.core.frame.DataFrame'>\n",
      "RangeIndex: 6559 entries, 0 to 6558\n",
      "Data columns (total 4 columns):\n",
      " #   Column     Non-Null Count  Dtype \n",
      "---  ------     --------------  ----- \n",
      " 0   proveedor  6559 non-null   object\n",
      " 1   producto   6559 non-null   object\n",
      " 2   fecha      6559 non-null   object\n",
      " 3   precio     6559 non-null   int64 \n",
      "dtypes: int64(1), object(3)\n",
      "memory usage: 205.1+ KB\n"
     ]
    }
   ],
   "source": [
    "# 4.- Información general del dataset\n",
    "\n",
    "dfcarnes.info()"
   ]
  },
  {
   "cell_type": "markdown",
   "id": "8882ee4c",
   "metadata": {},
   "source": [
    "El Resumen Estadístico nos muestra que:\n",
    "\n",
    "- Hay 6559 registros en total.\n",
    "- Hay 15 proveedores y 39 productos únicos.\n",
    "- La columna de fecha tiene 1097 valores únicos.\n",
    "- El precio promedio es de aproximadamente 7959.07, con una desviación estándar de 2091.37.\n",
    "- Los precios varían desde 1490 hasta 17730."
   ]
  },
  {
   "cell_type": "markdown",
   "id": "5dad8d0e",
   "metadata": {},
   "source": [
    "Realizamos una Descipcion Basica de las distintas variables del DataSet\n",
    "\n",
    "* Cantidad: 6559\n",
    "* Media: 7959.07\n",
    "* Devio Standard: 2091.37 \n",
    "* Valor Minimo: 1490\n",
    "* Primer Cuartil: 6500\n",
    "* Segundo Cuartil: 7990\n",
    "* Tercer Cuartil: 8999\n",
    "* Valor Maximo: 17730"
   ]
  },
  {
   "cell_type": "markdown",
   "id": "4b0ae9dd",
   "metadata": {},
   "source": [
    "**No hay valores nulos, pero se encontró un registro duplicado.**"
   ]
  },
  {
   "cell_type": "markdown",
   "id": "2319a311",
   "metadata": {},
   "source": [
    "### Preprocesamiento de Datos\n",
    "\n",
    "* Eliminación de duplicados: Eliminaremos los registros duplicados.\n",
    "* Conversión de la columna de fecha: Convertiremos la columna de fecha al tipo datetime y extraeremos características temporales como año, mes, día y hora.\n",
    "* Codificación de variables categóricas:"
   ]
  },
  {
   "cell_type": "code",
   "execution_count": 17,
   "id": "593dedd2",
   "metadata": {},
   "outputs": [
    {
     "data": {
      "text/plain": [
       "(proveedor    0\n",
       " producto     0\n",
       " fecha        0\n",
       " precio       0\n",
       " dtype: int64,\n",
       " 120)"
      ]
     },
     "execution_count": 17,
     "metadata": {},
     "output_type": "execute_result"
    }
   ],
   "source": [
    "# 5.- Verificar valores nulos\n",
    "\n",
    "null_values = dfcarnes.isnull().sum()\n",
    "\n",
    "# 6.- Verificar duplicados\n",
    "\n",
    "duplicates = dfcarnes.duplicated().sum()\n",
    "\n",
    "null_values, duplicates"
   ]
  },
  {
   "cell_type": "code",
   "execution_count": 21,
   "id": "f1720339",
   "metadata": {},
   "outputs": [],
   "source": [
    "# 7.- Eliminación de duplicados\n",
    "\n",
    "dfcarnes = dfcarnes.drop_duplicates()\n",
    "\n",
    "# 8.- Conversión de la columna de fecha al tipo datetime\n",
    "\n",
    "dfcarnes['fecha'] = pd.to_datetime(dfcarnes['fecha'], format='%d/%m/%Y %H:%M:%S')\n",
    "\n",
    "# 9.- Extracción de características temporales\n",
    "\n",
    "dfcarnes['año'] = dfcarnes['fecha'].dt.year\n",
    "dfcarnes['mes'] = dfcarnes['fecha'].dt.month\n",
    "dfcarnes['día'] = dfcarnes['fecha'].dt.day\n",
    "dfcarnes['hora'] = dfcarnes['fecha'].dt.hour"
   ]
  },
  {
   "cell_type": "markdown",
   "id": "f6c09535",
   "metadata": {},
   "source": [
    "**El dataset ha sido preprocesado correctamente, se eliminando registros duplicados y se convirtio la columna fecha en el tipo de dato necesario.**"
   ]
  },
  {
   "cell_type": "code",
   "execution_count": 26,
   "id": "8f9cc7f5",
   "metadata": {},
   "outputs": [
    {
     "data": {
      "text/plain": [
       "0   2024-06-06 14:51:34\n",
       "1   2024-06-07 14:28:17\n",
       "2   2024-06-07 15:07:42\n",
       "3   2024-06-09 15:31:05\n",
       "4   2024-06-10 14:38:28\n",
       "Name: fecha, dtype: datetime64[ns]"
      ]
     },
     "execution_count": 26,
     "metadata": {},
     "output_type": "execute_result"
    }
   ],
   "source": [
    "dfcarnes.fecha.head()"
   ]
  },
  {
   "cell_type": "markdown",
   "id": "4c87c186",
   "metadata": {},
   "source": [
    "### Trabajo hasta 12 de Junio de 2024"
   ]
  }
 ],
 "metadata": {
  "kernelspec": {
   "display_name": "Python 3 (ipykernel)",
   "language": "python",
   "name": "python3"
  },
  "language_info": {
   "codemirror_mode": {
    "name": "ipython",
    "version": 3
   },
   "file_extension": ".py",
   "mimetype": "text/x-python",
   "name": "python",
   "nbconvert_exporter": "python",
   "pygments_lexer": "ipython3",
   "version": "3.11.5"
  }
 },
 "nbformat": 4,
 "nbformat_minor": 5
}
